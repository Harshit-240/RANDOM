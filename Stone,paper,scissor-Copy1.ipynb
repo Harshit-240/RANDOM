{
 "cells": [
  {
   "cell_type": "code",
   "execution_count": 12,
   "id": "524b7d72",
   "metadata": {},
   "outputs": [
    {
     "ename": "SyntaxError",
     "evalue": "invalid syntax (Temp/ipykernel_9232/2882808865.py, line 19)",
     "output_type": "error",
     "traceback": [
      "\u001b[1;36m  File \u001b[1;32m\"C:\\Users\\Admin\\AppData\\Local\\Temp/ipykernel_9232/2882808865.py\"\u001b[1;36m, line \u001b[1;32m19\u001b[0m\n\u001b[1;33m    elif:\u001b[0m\n\u001b[1;37m        ^\u001b[0m\n\u001b[1;31mSyntaxError\u001b[0m\u001b[1;31m:\u001b[0m invalid syntax\n"
     ]
    }
   ],
   "source": [
    "import random\n",
    "user_action=input(\"Enter a choice (rock,paper,scissors):- \")\n",
    "possible_action= [ \"rock\" , \"paper\" , \"scissiors\" ]\n",
    "computer_action=random.choice(possible_action)\n",
    "print(f\"\\nYou chose {user_action}, computer chose {computer_action}.\\n\")\n",
    "\n",
    "if user_action==computer_action:\n",
    "    print(f\"both players selected {user_Action}. Its a tie!\")\n",
    "elif user_action==\"rock\":\n",
    "    if computer_action==\"scissors\":\n",
    "        print(\"You win!\")\n",
    "    else:\n",
    "        print(\"You lose\")\n",
    "elif user_action==\"paper\":\n",
    "    if computer_action==\"rock\":\n",
    "        print(\"Yow win!\")\n",
    "    else:\n",
    "        print(\"You lose\")\n",
    "elif:\n",
    "    user_action==\"scissors\":\n",
    "         if computer_action==\"paper\":\n",
    "                print(\"You win!\")\n",
    "         else:\n",
    "                print(\"You lose\")"
   ]
  },
  {
   "cell_type": "code",
   "execution_count": null,
   "id": "49fa23ee",
   "metadata": {},
   "outputs": [],
   "source": []
  }
 ],
 "metadata": {
  "kernelspec": {
   "display_name": "Python 3 (ipykernel)",
   "language": "python",
   "name": "python3"
  },
  "language_info": {
   "codemirror_mode": {
    "name": "ipython",
    "version": 3
   },
   "file_extension": ".py",
   "mimetype": "text/x-python",
   "name": "python",
   "nbconvert_exporter": "python",
   "pygments_lexer": "ipython3",
   "version": "3.9.7"
  }
 },
 "nbformat": 4,
 "nbformat_minor": 5
}
